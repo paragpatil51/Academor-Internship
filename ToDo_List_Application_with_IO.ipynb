{
 "cells": [
  {
   "cell_type": "code",
   "execution_count": 1,
   "id": "fdc3c330",
   "metadata": {},
   "outputs": [],
   "source": [
    "# Define the ToDoList class with its methods\n",
    "class ToDoList:\n",
    "    def __init__(self):\n",
    "        self.tasks = []\n",
    "\n",
    "    def add_task(self, task):\n",
    "        self.tasks.append({\"task\": task, \"completed\": False})\n",
    "        print(\"TASK ADDED:\", task)\n",
    "\n",
    "    def remove_task(self, task):\n",
    "        for t in self.tasks:\n",
    "            if t[\"task\"] == task:\n",
    "                self.tasks.remove(t)\n",
    "                print(\"TASK REMOVED:\", task)\n",
    "                return\n",
    "        print(\"TASK NOT FOUND:\", task)\n",
    "\n",
    "    def mark_task_completed(self, task):\n",
    "        for t in self.tasks:\n",
    "            if t[\"task\"] == task:\n",
    "                t[\"completed\"] = True\n",
    "                print(\"TASK MARKED AS COMPLETED:\", task)\n",
    "                return\n",
    "        print(\"TASK NOT FOUND:\", task)\n",
    "\n",
    "    def list_tasks(self):\n",
    "        print(\"TASKS:\")\n",
    "        for index, task in enumerate(self.tasks, start=1):\n",
    "            status = \"✓\" if task[\"completed\"] else \" \"\n",
    "            print(f\"{index}. [{status}] {task['task']}\")\n"
   ]
  },
  {
   "cell_type": "code",
   "execution_count": 2,
   "id": "b779009e",
   "metadata": {},
   "outputs": [
    {
     "name": "stdout",
     "output_type": "stream",
     "text": [
      "TASK ADDED: Buy groceries\n",
      "TASK ADDED: Complete Python project\n"
     ]
    }
   ],
   "source": [
    "# Initialize the ToDoList object and add tasks\n",
    "todo_list = ToDoList()\n",
    "todo_list.add_task(\"Buy groceries\")\n",
    "todo_list.add_task(\"Complete Python project\")"
   ]
  },
  {
   "cell_type": "code",
   "execution_count": 3,
   "id": "3928ce1c",
   "metadata": {},
   "outputs": [
    {
     "name": "stdout",
     "output_type": "stream",
     "text": [
      "TASK MARKED AS COMPLETED: Buy groceries\n"
     ]
    }
   ],
   "source": [
    "# Mark a task as completed\n",
    "todo_list.mark_task_completed(\"Buy groceries\")"
   ]
  },
  {
   "cell_type": "code",
   "execution_count": 4,
   "id": "3490a1e3",
   "metadata": {},
   "outputs": [
    {
     "name": "stdout",
     "output_type": "stream",
     "text": [
      "TASKS:\n",
      "1. [✓] Buy groceries\n",
      "2. [ ] Complete Python project\n"
     ]
    }
   ],
   "source": [
    "# List all tasks to see the current status\n",
    "todo_list.list_tasks()"
   ]
  },
  {
   "cell_type": "code",
   "execution_count": 5,
   "id": "69a4332e",
   "metadata": {},
   "outputs": [
    {
     "name": "stdout",
     "output_type": "stream",
     "text": [
      "TASK REMOVED: Complete Python project\n"
     ]
    }
   ],
   "source": [
    "# Remove a task from the list\n",
    "todo_list.remove_task(\"Complete Python project\")"
   ]
  },
  {
   "cell_type": "code",
   "execution_count": 6,
   "id": "d4cecb2f",
   "metadata": {},
   "outputs": [
    {
     "name": "stdout",
     "output_type": "stream",
     "text": [
      "TASKS:\n",
      "1. [✓] Buy groceries\n"
     ]
    }
   ],
   "source": [
    "# List tasks again to confirm removal\n",
    "todo_list.list_tasks()"
   ]
  }
 ],
 "metadata": {
  "kernelspec": {
   "display_name": "base",
   "language": "python",
   "name": "python3"
  },
  "language_info": {
   "codemirror_mode": {
    "name": "ipython",
    "version": 3
   },
   "file_extension": ".py",
   "mimetype": "text/x-python",
   "name": "python",
   "nbconvert_exporter": "python",
   "pygments_lexer": "ipython3",
   "version": "3.10.9"
  }
 },
 "nbformat": 4,
 "nbformat_minor": 5
}
