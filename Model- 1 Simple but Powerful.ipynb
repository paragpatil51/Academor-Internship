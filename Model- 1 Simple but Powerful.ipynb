{
 "cells": [
  {
   "cell_type": "code",
   "execution_count": 68,
   "id": "eea8b01f",
   "metadata": {},
   "outputs": [],
   "source": [
    "import pandas as pd\n",
    "from sklearn.model_selection import train_test_split"
   ]
  },
  {
   "cell_type": "code",
   "execution_count": 69,
   "id": "87de2158",
   "metadata": {},
   "outputs": [],
   "source": [
    "train_data= pd.read_csv('train_v9rqX0R.csv')\n",
    "test_data= pd.read_csv('test_AbJTz2l.csv')\n",
    "y= train_data.pop('Item_Outlet_Sales')"
   ]
  },
  {
   "cell_type": "code",
   "execution_count": 70,
   "id": "c77f60b7",
   "metadata": {},
   "outputs": [],
   "source": [
    "item_weight ={}\n",
    "for i, j in zip(train_data.Item_Identifier,train_data.Item_Weight):\n",
    "    if np.isnan(j):\n",
    "        continue\n",
    "    else:\n",
    "        item_weight[i]=j\n",
    "\n",
    "new_item_weight=[]\n",
    "for i, j in zip(train_data.Item_Identifier,train_data.Item_Weight):\n",
    "    if np.isnan(j):\n",
    "        if i in item_weight:\n",
    "            new_item_weight.append(item_weight[i])\n",
    "        else:\n",
    "            new_item_weight.append(j)\n",
    "    else:\n",
    "        new_item_weight.append(j)\n",
    "train_data.Item_Weight=new_item_weight\n",
    "\n",
    "new_item_weight=[]\n",
    "for i, j in zip(test_data.Item_Identifier,test_data.Item_Weight):\n",
    "    if np.isnan(j):\n",
    "        if i in item_weight:\n",
    "            new_item_weight.append(item_weight[i])\n",
    "        else:\n",
    "            new_item_weight.append(j)\n",
    "    else:\n",
    "        new_item_weight.append(j)\n",
    "test_data.Item_Weight=new_item_weight"
   ]
  },
  {
   "cell_type": "code",
   "execution_count": 71,
   "id": "69de57b0",
   "metadata": {},
   "outputs": [],
   "source": [
    "outlet_size =[]\n",
    "for loc_type,size,outlet_type,year in zip(train_data.Outlet_Location_Type,train_data.Outlet_Size,train_data.Outlet_Type,train_data.Outlet_Establishment_Year):\n",
    "    if type(size)==float:\n",
    "        if outlet_type=='Supermarket Type3' or outlet_type=='Supermarket Type2':\n",
    "            outlet_size.append('Medium')\n",
    "            continue\n",
    "        elif outlet_type=='Grocery Store':\n",
    "            outlet_size.append('Small')\n",
    "            continue\n",
    "        elif year==1987:\n",
    "            outlet_size.append('High')\n",
    "            continue\n",
    "        elif year==1997 or year==2004:\n",
    "            outlet_size.append('Small')\n",
    "            continue\n",
    "        elif year==1999 or year==2009:\n",
    "            outlet_size.append('Small')\n",
    "            continue\n",
    "        elif loc_type=='Tier 2':\n",
    "            outlet_size.append('Small')\n",
    "            continue \n",
    "        elif loc_type=='Tier 3':\n",
    "            outlet_size.append('Medium')\n",
    "            continue \n",
    "        elif loc_type=='Tier 1':\n",
    "            outlet_size.append('Small')\n",
    "            continue\n",
    "    else:\n",
    "        outlet_size.append(size)\n",
    "train_data.Outlet_Size= outlet_size"
   ]
  },
  {
   "cell_type": "code",
   "execution_count": 72,
   "id": "3b71ed54",
   "metadata": {},
   "outputs": [],
   "source": [
    "outlet_size =[]\n",
    "for loc_type,size,outlet_type,year in zip(test_data.Outlet_Location_Type,test_data.Outlet_Size,test_data.Outlet_Type,test_data.Outlet_Establishment_Year):\n",
    "    if type(size)==float:\n",
    "        if outlet_type=='Supermarket Type3' or outlet_type=='Supermarket Type2':\n",
    "            outlet_size.append('Medium')\n",
    "            continue\n",
    "        elif outlet_type=='Grocery Store':\n",
    "            outlet_size.append('Small')\n",
    "            continue\n",
    "        elif year==1987:\n",
    "            outlet_size.append('High')\n",
    "            continue\n",
    "        elif year==1997 or year==2004:\n",
    "            outlet_size.append('Small')\n",
    "            continue\n",
    "        elif year==1999 or year==2009:\n",
    "            outlet_size.append('Small')\n",
    "            continue\n",
    "        elif loc_type=='Tier 2':\n",
    "            outlet_size.append('Small')\n",
    "            continue \n",
    "        elif loc_type=='Tier 3':\n",
    "            outlet_size.append('Medium')\n",
    "            continue \n",
    "        elif loc_type=='Tier 1':\n",
    "            outlet_size.append('Small')\n",
    "            continue\n",
    "    else:\n",
    "        outlet_size.append(size)\n",
    "test_data.Outlet_Size= outlet_size"
   ]
  },
  {
   "cell_type": "code",
   "execution_count": 73,
   "id": "1100f345",
   "metadata": {},
   "outputs": [],
   "source": [
    "categorical_col= train_data.select_dtypes('object').columns\n",
    "train_data.loc[:,categorical_col]= train_data.loc[:,categorical_col].astype('str')\n",
    "test_data.loc[:,categorical_col]= test_data.loc[:,categorical_col].astype('str')"
   ]
  },
  {
   "cell_type": "code",
   "execution_count": 74,
   "id": "20880b2b",
   "metadata": {},
   "outputs": [],
   "source": [
    "X_train, X_test, y_train, y_test = train_test_split(train_data, y, test_size=0.2, random_state=42)"
   ]
  },
  {
   "cell_type": "code",
   "execution_count": 75,
   "id": "9ffbe92a",
   "metadata": {},
   "outputs": [
    {
     "data": {
      "application/vnd.jupyter.widget-view+json": {
       "model_id": "6f39e7af8f8a4fbfbb9e1a59accb9b6a",
       "version_major": 2,
       "version_minor": 0
      },
      "text/plain": [
       "MetricVisualizer(layout=Layout(align_self='stretch', height='500px'))"
      ]
     },
     "metadata": {},
     "output_type": "display_data"
    },
    {
     "name": "stdout",
     "output_type": "stream",
     "text": [
      "RMSE:  1015.8409919753993\n"
     ]
    }
   ],
   "source": [
    "from catboost import CatBoostRegressor\n",
    "import numpy as np\n",
    "\n",
    "# initialize the model\n",
    "cat_model = CatBoostRegressor(iterations=1000, learning_rate=0.01, depth=6,\\\n",
    "                          loss_function='RMSE', cat_features=list(categorical_col),nan_mode='Min')\n",
    "\n",
    "# fit the model on the training data\n",
    "cat_model.fit(X_train, y_train, eval_set=(X_test, y_test), logging_level='Silent',plot=True)\n",
    "\n",
    "# make predictions on the test set\n",
    "y_pred = cat_model.predict(X_test)\n",
    "\n",
    "# evaluate the model\n",
    "from sklearn.metrics import mean_squared_error\n",
    "rmse = np.sqrt(mean_squared_error(y_test, y_pred))\n",
    "print(\"RMSE: \", rmse)"
   ]
  },
  {
   "cell_type": "markdown",
   "id": "50fe336a",
   "metadata": {},
   "source": [
    "Let's see feature importance"
   ]
  },
  {
   "cell_type": "code",
   "execution_count": 76,
   "id": "420c499e",
   "metadata": {},
   "outputs": [
    {
     "data": {
      "text/html": [
       "<div>\n",
       "<style scoped>\n",
       "    .dataframe tbody tr th:only-of-type {\n",
       "        vertical-align: middle;\n",
       "    }\n",
       "\n",
       "    .dataframe tbody tr th {\n",
       "        vertical-align: top;\n",
       "    }\n",
       "\n",
       "    .dataframe thead th {\n",
       "        text-align: right;\n",
       "    }\n",
       "</style>\n",
       "<table border=\"1\" class=\"dataframe\">\n",
       "  <thead>\n",
       "    <tr style=\"text-align: right;\">\n",
       "      <th></th>\n",
       "      <th>0</th>\n",
       "    </tr>\n",
       "  </thead>\n",
       "  <tbody>\n",
       "    <tr>\n",
       "      <th>0.892894</th>\n",
       "      <td>Item_Identifier</td>\n",
       "    </tr>\n",
       "    <tr>\n",
       "      <th>0.521689</th>\n",
       "      <td>Item_Weight</td>\n",
       "    </tr>\n",
       "    <tr>\n",
       "      <th>1.153518</th>\n",
       "      <td>Item_Fat_Content</td>\n",
       "    </tr>\n",
       "    <tr>\n",
       "      <th>0.477762</th>\n",
       "      <td>Item_Visibility</td>\n",
       "    </tr>\n",
       "    <tr>\n",
       "      <th>1.196706</th>\n",
       "      <td>Item_Type</td>\n",
       "    </tr>\n",
       "    <tr>\n",
       "      <th>51.879821</th>\n",
       "      <td>Item_MRP</td>\n",
       "    </tr>\n",
       "    <tr>\n",
       "      <th>19.465338</th>\n",
       "      <td>Outlet_Identifier</td>\n",
       "    </tr>\n",
       "    <tr>\n",
       "      <th>1.924649</th>\n",
       "      <td>Outlet_Establishment_Year</td>\n",
       "    </tr>\n",
       "    <tr>\n",
       "      <th>1.804300</th>\n",
       "      <td>Outlet_Size</td>\n",
       "    </tr>\n",
       "    <tr>\n",
       "      <th>1.479738</th>\n",
       "      <td>Outlet_Location_Type</td>\n",
       "    </tr>\n",
       "    <tr>\n",
       "      <th>19.203585</th>\n",
       "      <td>Outlet_Type</td>\n",
       "    </tr>\n",
       "  </tbody>\n",
       "</table>\n",
       "</div>"
      ],
      "text/plain": [
       "                                   0\n",
       "0.892894             Item_Identifier\n",
       "0.521689                 Item_Weight\n",
       "1.153518            Item_Fat_Content\n",
       "0.477762             Item_Visibility\n",
       "1.196706                   Item_Type\n",
       "51.879821                   Item_MRP\n",
       "19.465338          Outlet_Identifier\n",
       "1.924649   Outlet_Establishment_Year\n",
       "1.804300                 Outlet_Size\n",
       "1.479738        Outlet_Location_Type\n",
       "19.203585                Outlet_Type"
      ]
     },
     "execution_count": 76,
     "metadata": {},
     "output_type": "execute_result"
    }
   ],
   "source": [
    "pd.DataFrame(train_data.columns,cat_model.feature_importances_)"
   ]
  },
  {
   "cell_type": "code",
   "execution_count": 77,
   "id": "b0083855",
   "metadata": {},
   "outputs": [],
   "source": [
    "prediction=cat_model.predict(test_data)"
   ]
  },
  {
   "cell_type": "code",
   "execution_count": 78,
   "id": "72efaabb",
   "metadata": {},
   "outputs": [],
   "source": [
    "output = pd.DataFrame({'Item_Identifier': test_data.Item_Identifier,\n",
    "                       'Outlet_Identifier': test_data.Outlet_Identifier,\n",
    "                       'Item_Outlet_Sales': prediction})\n",
    "output.to_csv('submission1.csv', index=False)"
   ]
  },
  {
   "cell_type": "code",
   "execution_count": 79,
   "id": "483932ef",
   "metadata": {},
   "outputs": [],
   "source": [
    "# submission error =  1150"
   ]
  },
  {
   "cell_type": "code",
   "execution_count": 80,
   "id": "7c7eed06",
   "metadata": {},
   "outputs": [],
   "source": [
    "new_data_frame= train_data.loc[:,['Item_MRP','Outlet_Identifier','Outlet_Type']]"
   ]
  },
  {
   "cell_type": "code",
   "execution_count": 81,
   "id": "bdeaaca5",
   "metadata": {},
   "outputs": [],
   "source": [
    "categorical_col2= new_data_frame.select_dtypes('object').columns"
   ]
  },
  {
   "cell_type": "code",
   "execution_count": 82,
   "id": "8fa357af",
   "metadata": {},
   "outputs": [],
   "source": [
    "X_train, X_test, y_train, y_test = train_test_split(new_data_frame, y, test_size=0.2, random_state=42)"
   ]
  },
  {
   "cell_type": "code",
   "execution_count": 83,
   "id": "6e2db5c2",
   "metadata": {},
   "outputs": [
    {
     "data": {
      "application/vnd.jupyter.widget-view+json": {
       "model_id": "6e5e184d4be948db82ae216685b6e42d",
       "version_major": 2,
       "version_minor": 0
      },
      "text/plain": [
       "MetricVisualizer(layout=Layout(align_self='stretch', height='500px'))"
      ]
     },
     "metadata": {},
     "output_type": "display_data"
    },
    {
     "name": "stdout",
     "output_type": "stream",
     "text": [
      "RMSE:  1017.475517465378\n"
     ]
    }
   ],
   "source": [
    "from catboost import CatBoostRegressor\n",
    "import numpy as np\n",
    "\n",
    "# initialize the model\n",
    "cat_model2 = CatBoostRegressor(iterations=1000, learning_rate=0.01, depth=6,\\\n",
    "                          loss_function='RMSE', cat_features=list(categorical_col2),nan_mode='Min')\n",
    "\n",
    "# fit the model on the training data\n",
    "cat_model2.fit(X_train, y_train, eval_set=(X_test, y_test), logging_level='Silent',plot=True)\n",
    "\n",
    "# make predictions on the test set\n",
    "y_pred = cat_model2.predict(X_test)\n",
    "\n",
    "# evaluate the model\n",
    "from sklearn.metrics import mean_squared_error\n",
    "rmse = np.sqrt(mean_squared_error(y_test, y_pred))\n",
    "print(\"RMSE: \", rmse)"
   ]
  },
  {
   "cell_type": "code",
   "execution_count": 84,
   "id": "36d75ec5",
   "metadata": {},
   "outputs": [],
   "source": [
    "new_test_data= test_data.loc[:,['Item_MRP','Outlet_Identifier','Outlet_Type']]"
   ]
  },
  {
   "cell_type": "code",
   "execution_count": 85,
   "id": "06f3a955",
   "metadata": {},
   "outputs": [],
   "source": [
    "prediction=cat_model2.predict(new_test_data)"
   ]
  },
  {
   "cell_type": "code",
   "execution_count": 86,
   "id": "925246c4",
   "metadata": {},
   "outputs": [],
   "source": [
    "output = pd.DataFrame({'Item_Identifier': test_data.Item_Identifier,\n",
    "                       'Outlet_Identifier': test_data.Outlet_Identifier,\n",
    "                       'Item_Outlet_Sales': prediction})\n",
    "output.to_csv('submission2.csv', index=False)"
   ]
  },
  {
   "cell_type": "code",
   "execution_count": null,
   "id": "1a74e1e2",
   "metadata": {},
   "outputs": [],
   "source": []
  }
 ],
 "metadata": {
  "kernelspec": {
   "display_name": "Python 3 (ipykernel)",
   "language": "python",
   "name": "python3"
  },
  "language_info": {
   "codemirror_mode": {
    "name": "ipython",
    "version": 3
   },
   "file_extension": ".py",
   "mimetype": "text/x-python",
   "name": "python",
   "nbconvert_exporter": "python",
   "pygments_lexer": "ipython3",
   "version": "3.9.13"
  }
 },
 "nbformat": 4,
 "nbformat_minor": 5
}
